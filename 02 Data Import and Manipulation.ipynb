{
 "cells": [
  {
   "cell_type": "markdown",
   "metadata": {},
   "source": [
    "# Introduction\n",
    "\n",
    "In this notes, examples concerning data processing are presented"
   ]
  },
  {
   "cell_type": "markdown",
   "metadata": {},
   "source": [
    "# Read and Write Data Files"
   ]
  },
  {
   "cell_type": "markdown",
   "metadata": {},
   "source": [
    "## Read CSV Files"
   ]
  },
  {
   "cell_type": "code",
   "execution_count": 2,
   "metadata": {},
   "outputs": [
    {
     "name": "stdout",
     "output_type": "stream",
     "text": [
      "[1] \"data.frame\"\n"
     ]
    },
    {
     "data": {
      "text/html": [
       "<table>\n",
       "<caption>A data.frame: 6 × 6</caption>\n",
       "<thead>\n",
       "\t<tr><th></th><th scope=col>X</th><th scope=col>BPchange</th><th scope=col>Dose</th><th scope=col>Run</th><th scope=col>Treatment</th><th scope=col>Animal</th></tr>\n",
       "\t<tr><th></th><th scope=col>&lt;int&gt;</th><th scope=col>&lt;dbl&gt;</th><th scope=col>&lt;dbl&gt;</th><th scope=col>&lt;chr&gt;</th><th scope=col>&lt;chr&gt;</th><th scope=col>&lt;chr&gt;</th></tr>\n",
       "</thead>\n",
       "<tbody>\n",
       "\t<tr><th scope=row>1</th><td>1</td><td> 0.5</td><td>  6.25</td><td>C1</td><td>Control</td><td>R1</td></tr>\n",
       "\t<tr><th scope=row>2</th><td>2</td><td> 4.5</td><td> 12.50</td><td>C1</td><td>Control</td><td>R1</td></tr>\n",
       "\t<tr><th scope=row>3</th><td>3</td><td>10.0</td><td> 25.00</td><td>C1</td><td>Control</td><td>R1</td></tr>\n",
       "\t<tr><th scope=row>4</th><td>4</td><td>26.0</td><td> 50.00</td><td>C1</td><td>Control</td><td>R1</td></tr>\n",
       "\t<tr><th scope=row>5</th><td>5</td><td>37.0</td><td>100.00</td><td>C1</td><td>Control</td><td>R1</td></tr>\n",
       "\t<tr><th scope=row>6</th><td>6</td><td>32.0</td><td>200.00</td><td>C1</td><td>Control</td><td>R1</td></tr>\n",
       "</tbody>\n",
       "</table>\n"
      ],
      "text/latex": [
       "A data.frame: 6 × 6\n",
       "\\begin{tabular}{r|llllll}\n",
       "  & X & BPchange & Dose & Run & Treatment & Animal\\\\\n",
       "  & <int> & <dbl> & <dbl> & <chr> & <chr> & <chr>\\\\\n",
       "\\hline\n",
       "\t1 & 1 &  0.5 &   6.25 & C1 & Control & R1\\\\\n",
       "\t2 & 2 &  4.5 &  12.50 & C1 & Control & R1\\\\\n",
       "\t3 & 3 & 10.0 &  25.00 & C1 & Control & R1\\\\\n",
       "\t4 & 4 & 26.0 &  50.00 & C1 & Control & R1\\\\\n",
       "\t5 & 5 & 37.0 & 100.00 & C1 & Control & R1\\\\\n",
       "\t6 & 6 & 32.0 & 200.00 & C1 & Control & R1\\\\\n",
       "\\end{tabular}\n"
      ],
      "text/markdown": [
       "\n",
       "A data.frame: 6 × 6\n",
       "\n",
       "| <!--/--> | X &lt;int&gt; | BPchange &lt;dbl&gt; | Dose &lt;dbl&gt; | Run &lt;chr&gt; | Treatment &lt;chr&gt; | Animal &lt;chr&gt; |\n",
       "|---|---|---|---|---|---|---|\n",
       "| 1 | 1 |  0.5 |   6.25 | C1 | Control | R1 |\n",
       "| 2 | 2 |  4.5 |  12.50 | C1 | Control | R1 |\n",
       "| 3 | 3 | 10.0 |  25.00 | C1 | Control | R1 |\n",
       "| 4 | 4 | 26.0 |  50.00 | C1 | Control | R1 |\n",
       "| 5 | 5 | 37.0 | 100.00 | C1 | Control | R1 |\n",
       "| 6 | 6 | 32.0 | 200.00 | C1 | Control | R1 |\n",
       "\n"
      ],
      "text/plain": [
       "  X BPchange Dose   Run Treatment Animal\n",
       "1 1  0.5       6.25 C1  Control   R1    \n",
       "2 2  4.5      12.50 C1  Control   R1    \n",
       "3 3 10.0      25.00 C1  Control   R1    \n",
       "4 4 26.0      50.00 C1  Control   R1    \n",
       "5 5 37.0     100.00 C1  Control   R1    \n",
       "6 6 32.0     200.00 C1  Control   R1    "
      ]
     },
     "metadata": {},
     "output_type": "display_data"
    }
   ],
   "source": [
    "# Getting data from file \"rabbit.csv\"\n",
    "rabbit_sample <- read.csv(\"rabbit.csv\")\n",
    "\n",
    "# Print the class of the variable rabbit_sample\n",
    "print(class(rabbit_sample))\n",
    "\n",
    "# Printing first few lines of the dataframe\n",
    "head(rabbit_sample)"
   ]
  },
  {
   "cell_type": "markdown",
   "metadata": {},
   "source": [
    "# Connecting Database"
   ]
  },
  {
   "cell_type": "markdown",
   "metadata": {},
   "source": [
    "# Packages for Data Handling"
   ]
  },
  {
   "cell_type": "code",
   "execution_count": null,
   "metadata": {},
   "outputs": [],
   "source": []
  }
 ],
 "metadata": {
  "kernelspec": {
   "display_name": "R",
   "language": "R",
   "name": "ir"
  },
  "language_info": {
   "codemirror_mode": "r",
   "file_extension": ".r",
   "mimetype": "text/x-r-source",
   "name": "R",
   "pygments_lexer": "r",
   "version": "4.0.1"
  }
 },
 "nbformat": 4,
 "nbformat_minor": 4
}
