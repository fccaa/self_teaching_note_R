{
 "cells": [
  {
   "cell_type": "markdown",
   "metadata": {},
   "source": [
    "# Introduction\n",
    "\n",
    "In this notes, examples concerning data processing are presented"
   ]
  },
  {
   "cell_type": "markdown",
   "metadata": {},
   "source": [
    "# Read and Write Data Files"
   ]
  },
  {
   "cell_type": "markdown",
   "metadata": {},
   "source": [
    "## Read CSV Files"
   ]
  },
  {
   "cell_type": "markdown",
   "metadata": {},
   "source": [
    "#### Read a CSV File with Default Options"
   ]
  },
  {
   "cell_type": "code",
   "execution_count": 1,
   "metadata": {},
   "outputs": [
    {
     "name": "stdout",
     "output_type": "stream",
     "text": [
      "[1] \"data.frame\"\n"
     ]
    },
    {
     "data": {
      "text/html": [
       "<table>\n",
       "<caption>A data.frame: 6 × 6</caption>\n",
       "<thead>\n",
       "\t<tr><th></th><th scope=col>X</th><th scope=col>BPchange</th><th scope=col>Dose</th><th scope=col>Run</th><th scope=col>Treatment</th><th scope=col>Animal</th></tr>\n",
       "\t<tr><th></th><th scope=col>&lt;int&gt;</th><th scope=col>&lt;dbl&gt;</th><th scope=col>&lt;dbl&gt;</th><th scope=col>&lt;fct&gt;</th><th scope=col>&lt;fct&gt;</th><th scope=col>&lt;fct&gt;</th></tr>\n",
       "</thead>\n",
       "<tbody>\n",
       "\t<tr><th scope=row>1</th><td>1</td><td> 0.5</td><td>  6.25</td><td>C1</td><td>Control</td><td>R1</td></tr>\n",
       "\t<tr><th scope=row>2</th><td>2</td><td> 4.5</td><td> 12.50</td><td>C1</td><td>Control</td><td>R1</td></tr>\n",
       "\t<tr><th scope=row>3</th><td>3</td><td>10.0</td><td> 25.00</td><td>C1</td><td>Control</td><td>R1</td></tr>\n",
       "\t<tr><th scope=row>4</th><td>4</td><td>26.0</td><td> 50.00</td><td>C1</td><td>Control</td><td>R1</td></tr>\n",
       "\t<tr><th scope=row>5</th><td>5</td><td>37.0</td><td>100.00</td><td>C1</td><td>Control</td><td>R1</td></tr>\n",
       "\t<tr><th scope=row>6</th><td>6</td><td>32.0</td><td>200.00</td><td>C1</td><td>Control</td><td>R1</td></tr>\n",
       "</tbody>\n",
       "</table>\n"
      ],
      "text/latex": [
       "A data.frame: 6 × 6\n",
       "\\begin{tabular}{r|llllll}\n",
       "  & X & BPchange & Dose & Run & Treatment & Animal\\\\\n",
       "  & <int> & <dbl> & <dbl> & <fct> & <fct> & <fct>\\\\\n",
       "\\hline\n",
       "\t1 & 1 &  0.5 &   6.25 & C1 & Control & R1\\\\\n",
       "\t2 & 2 &  4.5 &  12.50 & C1 & Control & R1\\\\\n",
       "\t3 & 3 & 10.0 &  25.00 & C1 & Control & R1\\\\\n",
       "\t4 & 4 & 26.0 &  50.00 & C1 & Control & R1\\\\\n",
       "\t5 & 5 & 37.0 & 100.00 & C1 & Control & R1\\\\\n",
       "\t6 & 6 & 32.0 & 200.00 & C1 & Control & R1\\\\\n",
       "\\end{tabular}\n"
      ],
      "text/markdown": [
       "\n",
       "A data.frame: 6 × 6\n",
       "\n",
       "| <!--/--> | X &lt;int&gt; | BPchange &lt;dbl&gt; | Dose &lt;dbl&gt; | Run &lt;fct&gt; | Treatment &lt;fct&gt; | Animal &lt;fct&gt; |\n",
       "|---|---|---|---|---|---|---|\n",
       "| 1 | 1 |  0.5 |   6.25 | C1 | Control | R1 |\n",
       "| 2 | 2 |  4.5 |  12.50 | C1 | Control | R1 |\n",
       "| 3 | 3 | 10.0 |  25.00 | C1 | Control | R1 |\n",
       "| 4 | 4 | 26.0 |  50.00 | C1 | Control | R1 |\n",
       "| 5 | 5 | 37.0 | 100.00 | C1 | Control | R1 |\n",
       "| 6 | 6 | 32.0 | 200.00 | C1 | Control | R1 |\n",
       "\n"
      ],
      "text/plain": [
       "  X BPchange Dose   Run Treatment Animal\n",
       "1 1  0.5       6.25 C1  Control   R1    \n",
       "2 2  4.5      12.50 C1  Control   R1    \n",
       "3 3 10.0      25.00 C1  Control   R1    \n",
       "4 4 26.0      50.00 C1  Control   R1    \n",
       "5 5 37.0     100.00 C1  Control   R1    \n",
       "6 6 32.0     200.00 C1  Control   R1    "
      ]
     },
     "metadata": {},
     "output_type": "display_data"
    }
   ],
   "source": [
    "# Getting data from file \"rabbit.csv\"\n",
    "rabbit_sample <- read.csv(\"rabbit.csv\")\n",
    "\n",
    "# Print the class of the variable rabbit_sample\n",
    "print(class(rabbit_sample))\n",
    "\n",
    "# Printing first few lines of the dataframe\n",
    "head(rabbit_sample)"
   ]
  },
  {
   "cell_type": "markdown",
   "metadata": {},
   "source": [
    "#### Not Assuming the First Row in the CSV File is Labels\n",
    "* The column labels will be \"V1\", \"V2\", etc..."
   ]
  },
  {
   "cell_type": "code",
   "execution_count": 2,
   "metadata": {
    "scrolled": true
   },
   "outputs": [
    {
     "data": {
      "text/html": [
       "<table>\n",
       "<caption>A data.frame: 6 × 6</caption>\n",
       "<thead>\n",
       "\t<tr><th></th><th scope=col>V1</th><th scope=col>V2</th><th scope=col>V3</th><th scope=col>V4</th><th scope=col>V5</th><th scope=col>V6</th></tr>\n",
       "\t<tr><th></th><th scope=col>&lt;int&gt;</th><th scope=col>&lt;fct&gt;</th><th scope=col>&lt;fct&gt;</th><th scope=col>&lt;fct&gt;</th><th scope=col>&lt;fct&gt;</th><th scope=col>&lt;fct&gt;</th></tr>\n",
       "</thead>\n",
       "<tbody>\n",
       "\t<tr><th scope=row>1</th><td>NA</td><td>BPchange</td><td>Dose</td><td>Run</td><td>Treatment</td><td>Animal</td></tr>\n",
       "\t<tr><th scope=row>2</th><td> 1</td><td>0.5     </td><td>6.25</td><td>C1 </td><td>Control  </td><td>R1    </td></tr>\n",
       "\t<tr><th scope=row>3</th><td> 2</td><td>4.5     </td><td>12.5</td><td>C1 </td><td>Control  </td><td>R1    </td></tr>\n",
       "\t<tr><th scope=row>4</th><td> 3</td><td>10      </td><td>25  </td><td>C1 </td><td>Control  </td><td>R1    </td></tr>\n",
       "\t<tr><th scope=row>5</th><td> 4</td><td>26      </td><td>50  </td><td>C1 </td><td>Control  </td><td>R1    </td></tr>\n",
       "\t<tr><th scope=row>6</th><td> 5</td><td>37      </td><td>100 </td><td>C1 </td><td>Control  </td><td>R1    </td></tr>\n",
       "</tbody>\n",
       "</table>\n"
      ],
      "text/latex": [
       "A data.frame: 6 × 6\n",
       "\\begin{tabular}{r|llllll}\n",
       "  & V1 & V2 & V3 & V4 & V5 & V6\\\\\n",
       "  & <int> & <fct> & <fct> & <fct> & <fct> & <fct>\\\\\n",
       "\\hline\n",
       "\t1 & NA & BPchange & Dose & Run & Treatment & Animal\\\\\n",
       "\t2 &  1 & 0.5      & 6.25 & C1  & Control   & R1    \\\\\n",
       "\t3 &  2 & 4.5      & 12.5 & C1  & Control   & R1    \\\\\n",
       "\t4 &  3 & 10       & 25   & C1  & Control   & R1    \\\\\n",
       "\t5 &  4 & 26       & 50   & C1  & Control   & R1    \\\\\n",
       "\t6 &  5 & 37       & 100  & C1  & Control   & R1    \\\\\n",
       "\\end{tabular}\n"
      ],
      "text/markdown": [
       "\n",
       "A data.frame: 6 × 6\n",
       "\n",
       "| <!--/--> | V1 &lt;int&gt; | V2 &lt;fct&gt; | V3 &lt;fct&gt; | V4 &lt;fct&gt; | V5 &lt;fct&gt; | V6 &lt;fct&gt; |\n",
       "|---|---|---|---|---|---|---|\n",
       "| 1 | NA | BPchange | Dose | Run | Treatment | Animal |\n",
       "| 2 |  1 | 0.5      | 6.25 | C1  | Control   | R1     |\n",
       "| 3 |  2 | 4.5      | 12.5 | C1  | Control   | R1     |\n",
       "| 4 |  3 | 10       | 25   | C1  | Control   | R1     |\n",
       "| 5 |  4 | 26       | 50   | C1  | Control   | R1     |\n",
       "| 6 |  5 | 37       | 100  | C1  | Control   | R1     |\n",
       "\n"
      ],
      "text/plain": [
       "  V1 V2       V3   V4  V5        V6    \n",
       "1 NA BPchange Dose Run Treatment Animal\n",
       "2  1 0.5      6.25 C1  Control   R1    \n",
       "3  2 4.5      12.5 C1  Control   R1    \n",
       "4  3 10       25   C1  Control   R1    \n",
       "5  4 26       50   C1  Control   R1    \n",
       "6  5 37       100  C1  Control   R1    "
      ]
     },
     "metadata": {},
     "output_type": "display_data"
    }
   ],
   "source": [
    "# Getting data from file \"rabbit.csv\"\n",
    "rabbit_sample <- read.csv(\"rabbit.csv\", header = FALSE)\n",
    "\n",
    "# Printing first few lines of the dataframe\n",
    "head(rabbit_sample)"
   ]
  },
  {
   "cell_type": "markdown",
   "metadata": {},
   "source": [
    "#### Using Custom Column Names\n",
    "* The rule is the same as rows."
   ]
  },
  {
   "cell_type": "code",
   "execution_count": 3,
   "metadata": {},
   "outputs": [
    {
     "data": {
      "text/html": [
       "<table>\n",
       "<caption>A data.frame: 6 × 6</caption>\n",
       "<thead>\n",
       "\t<tr><th></th><th scope=col>A</th><th scope=col>B</th><th scope=col>C</th><th scope=col>D</th><th scope=col>E</th><th scope=col>F</th></tr>\n",
       "\t<tr><th></th><th scope=col>&lt;int&gt;</th><th scope=col>&lt;dbl&gt;</th><th scope=col>&lt;dbl&gt;</th><th scope=col>&lt;fct&gt;</th><th scope=col>&lt;fct&gt;</th><th scope=col>&lt;fct&gt;</th></tr>\n",
       "</thead>\n",
       "<tbody>\n",
       "\t<tr><th scope=row>1</th><td>1</td><td> 0.5</td><td>  6.25</td><td>C1</td><td>Control</td><td>R1</td></tr>\n",
       "\t<tr><th scope=row>2</th><td>2</td><td> 4.5</td><td> 12.50</td><td>C1</td><td>Control</td><td>R1</td></tr>\n",
       "\t<tr><th scope=row>3</th><td>3</td><td>10.0</td><td> 25.00</td><td>C1</td><td>Control</td><td>R1</td></tr>\n",
       "\t<tr><th scope=row>4</th><td>4</td><td>26.0</td><td> 50.00</td><td>C1</td><td>Control</td><td>R1</td></tr>\n",
       "\t<tr><th scope=row>5</th><td>5</td><td>37.0</td><td>100.00</td><td>C1</td><td>Control</td><td>R1</td></tr>\n",
       "\t<tr><th scope=row>6</th><td>6</td><td>32.0</td><td>200.00</td><td>C1</td><td>Control</td><td>R1</td></tr>\n",
       "</tbody>\n",
       "</table>\n"
      ],
      "text/latex": [
       "A data.frame: 6 × 6\n",
       "\\begin{tabular}{r|llllll}\n",
       "  & A & B & C & D & E & F\\\\\n",
       "  & <int> & <dbl> & <dbl> & <fct> & <fct> & <fct>\\\\\n",
       "\\hline\n",
       "\t1 & 1 &  0.5 &   6.25 & C1 & Control & R1\\\\\n",
       "\t2 & 2 &  4.5 &  12.50 & C1 & Control & R1\\\\\n",
       "\t3 & 3 & 10.0 &  25.00 & C1 & Control & R1\\\\\n",
       "\t4 & 4 & 26.0 &  50.00 & C1 & Control & R1\\\\\n",
       "\t5 & 5 & 37.0 & 100.00 & C1 & Control & R1\\\\\n",
       "\t6 & 6 & 32.0 & 200.00 & C1 & Control & R1\\\\\n",
       "\\end{tabular}\n"
      ],
      "text/markdown": [
       "\n",
       "A data.frame: 6 × 6\n",
       "\n",
       "| <!--/--> | A &lt;int&gt; | B &lt;dbl&gt; | C &lt;dbl&gt; | D &lt;fct&gt; | E &lt;fct&gt; | F &lt;fct&gt; |\n",
       "|---|---|---|---|---|---|---|\n",
       "| 1 | 1 |  0.5 |   6.25 | C1 | Control | R1 |\n",
       "| 2 | 2 |  4.5 |  12.50 | C1 | Control | R1 |\n",
       "| 3 | 3 | 10.0 |  25.00 | C1 | Control | R1 |\n",
       "| 4 | 4 | 26.0 |  50.00 | C1 | Control | R1 |\n",
       "| 5 | 5 | 37.0 | 100.00 | C1 | Control | R1 |\n",
       "| 6 | 6 | 32.0 | 200.00 | C1 | Control | R1 |\n",
       "\n"
      ],
      "text/plain": [
       "  A B    C      D  E       F \n",
       "1 1  0.5   6.25 C1 Control R1\n",
       "2 2  4.5  12.50 C1 Control R1\n",
       "3 3 10.0  25.00 C1 Control R1\n",
       "4 4 26.0  50.00 C1 Control R1\n",
       "5 5 37.0 100.00 C1 Control R1\n",
       "6 6 32.0 200.00 C1 Control R1"
      ]
     },
     "metadata": {},
     "output_type": "display_data"
    }
   ],
   "source": [
    "# Getting data from file \"rabbit.csv\"\n",
    "rabbit_sample <- read.csv(\"rabbit.csv\", col.names = c(\"A\", \"B\", \"C\", \"D\", \"E\", \"F\"))\n",
    "\n",
    "# Printing first few lines of the dataframe\n",
    "head(rabbit_sample)"
   ]
  },
  {
   "cell_type": "markdown",
   "metadata": {},
   "source": [
    "# Connecting Database"
   ]
  },
  {
   "cell_type": "markdown",
   "metadata": {},
   "source": [
    "# Packages for Data Handling"
   ]
  },
  {
   "cell_type": "code",
   "execution_count": null,
   "metadata": {},
   "outputs": [],
   "source": []
  }
 ],
 "metadata": {
  "kernelspec": {
   "display_name": "R",
   "language": "R",
   "name": "ir"
  },
  "language_info": {
   "codemirror_mode": "r",
   "file_extension": ".r",
   "mimetype": "text/x-r-source",
   "name": "R",
   "pygments_lexer": "r",
   "version": "3.6.3"
  }
 },
 "nbformat": 4,
 "nbformat_minor": 4
}
