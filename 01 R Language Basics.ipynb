{
 "cells": [
  {
   "cell_type": "markdown",
   "metadata": {},
   "source": [
    "# Introduction"
   ]
  },
  {
   "cell_type": "markdown",
   "metadata": {},
   "source": [
    "This is a syntax and usage summary for R. The content is mainly from https://www.tutorialspoint.com/r/index.htm"
   ]
  },
  {
   "cell_type": "markdown",
   "metadata": {},
   "source": [
    "## Hello World"
   ]
  },
  {
   "cell_type": "code",
   "execution_count": 1,
   "metadata": {
    "scrolled": true
   },
   "outputs": [
    {
     "name": "stdout",
     "output_type": "stream",
     "text": [
      "[1] \"Hello World!\"\n"
     ]
    }
   ],
   "source": [
    "my_str <- \"Hello World!\"\n",
    "print(my_str)"
   ]
  },
  {
   "cell_type": "code",
   "execution_count": 2,
   "metadata": {},
   "outputs": [
    {
     "name": "stdout",
     "output_type": "stream",
     "text": [
      "Hello World! 123"
     ]
    }
   ],
   "source": [
    "cat(my_str, 123)"
   ]
  },
  {
   "cell_type": "markdown",
   "metadata": {},
   "source": [
    "# Data Types, Variables and Objects"
   ]
  },
  {
   "cell_type": "markdown",
   "metadata": {},
   "source": [
    "## Basic Data Types"
   ]
  },
  {
   "cell_type": "code",
   "execution_count": 3,
   "metadata": {},
   "outputs": [
    {
     "name": "stdout",
     "output_type": "stream",
     "text": [
      "[1] \"logical\"\n"
     ]
    }
   ],
   "source": [
    "v <- TRUE \n",
    "print(class(v))"
   ]
  },
  {
   "cell_type": "code",
   "execution_count": 4,
   "metadata": {
    "scrolled": true
   },
   "outputs": [
    {
     "name": "stdout",
     "output_type": "stream",
     "text": [
      "[1] \"numeric\"\n"
     ]
    }
   ],
   "source": [
    "v <- 23.5\n",
    "print(class(v))"
   ]
  },
  {
   "cell_type": "code",
   "execution_count": 5,
   "metadata": {},
   "outputs": [
    {
     "name": "stdout",
     "output_type": "stream",
     "text": [
      "[1] \"integer\"\n"
     ]
    }
   ],
   "source": [
    "v <- 2L\n",
    "print(class(v))"
   ]
  },
  {
   "cell_type": "code",
   "execution_count": 6,
   "metadata": {},
   "outputs": [
    {
     "name": "stdout",
     "output_type": "stream",
     "text": [
      "[1] \"complex\"\n"
     ]
    }
   ],
   "source": [
    "v <- 2+5i\n",
    "print(class(v))"
   ]
  },
  {
   "cell_type": "code",
   "execution_count": 7,
   "metadata": {},
   "outputs": [
    {
     "name": "stdout",
     "output_type": "stream",
     "text": [
      "[1] \"character\"\n"
     ]
    }
   ],
   "source": [
    "v <- \"TRUE\"\n",
    "print(class(v))"
   ]
  },
  {
   "cell_type": "code",
   "execution_count": 8,
   "metadata": {},
   "outputs": [
    {
     "name": "stdout",
     "output_type": "stream",
     "text": [
      "[1] \"raw\"\n"
     ]
    }
   ],
   "source": [
    "v <- charToRaw(\"Hello\")\n",
    "print(class(v))"
   ]
  },
  {
   "cell_type": "markdown",
   "metadata": {},
   "source": [
    "##  Objects "
   ]
  },
  {
   "cell_type": "markdown",
   "metadata": {},
   "source": [
    "### Vector\n",
    "\n",
    "* An ordered collection of variables of **same** types."
   ]
  },
  {
   "cell_type": "markdown",
   "metadata": {},
   "source": [
    "#### Create a vector"
   ]
  },
  {
   "cell_type": "code",
   "execution_count": 9,
   "metadata": {
    "scrolled": true
   },
   "outputs": [
    {
     "name": "stdout",
     "output_type": "stream",
     "text": [
      "[1] 0 1 2 3\n",
      "[1] \"numeric\"\n"
     ]
    }
   ],
   "source": [
    "# Create a vector.\n",
    "v <- c(0,1,2,3)\n",
    "print(v)\n",
    "\n",
    "# Get the class of the vector.\n",
    "print(class(v))"
   ]
  },
  {
   "cell_type": "markdown",
   "metadata": {},
   "source": [
    "#### Getting the Length of a Vector"
   ]
  },
  {
   "cell_type": "code",
   "execution_count": 10,
   "metadata": {},
   "outputs": [
    {
     "name": "stdout",
     "output_type": "stream",
     "text": [
      "[1] 4\n"
     ]
    }
   ],
   "source": [
    "# Print the length of a vector\n",
    "print(length(v))"
   ]
  },
  {
   "cell_type": "markdown",
   "metadata": {},
   "source": [
    "#### Create a sequence"
   ]
  },
  {
   "cell_type": "code",
   "execution_count": 11,
   "metadata": {},
   "outputs": [
    {
     "name": "stdout",
     "output_type": "stream",
     "text": [
      " [1]  1  2  3  4  5  6  7  8  9 10\n",
      "[1] 1.2 2.2 3.2 4.2 5.2 6.2 7.2 8.2 9.2\n"
     ]
    }
   ],
   "source": [
    "# Create a vector of a sequence\n",
    "v <- 1:10\n",
    "print(v)\n",
    "\n",
    "v <- 1.2:10.1\n",
    "print(v)"
   ]
  },
  {
   "cell_type": "markdown",
   "metadata": {},
   "source": [
    "#### Accessing vector elements \n",
    "* One should note that **indices in R starting from 1**."
   ]
  },
  {
   "cell_type": "code",
   "execution_count": 12,
   "metadata": {},
   "outputs": [
    {
     "name": "stdout",
     "output_type": "stream",
     "text": [
      "[1] \"Mon\" \"Tue\" \"Fri\"\n",
      "[1] \"Sun\" \"Tue\" \"Wed\" \"Fri\" \"Sat\"\n",
      "[1] \"Mon\"\n"
     ]
    }
   ],
   "source": [
    "# Accessing vector elements using position.\n",
    "t <- c(\"Sun\",\"Mon\",\"Tue\",\"Wed\",\"Thurs\",\"Fri\",\"Sat\")\n",
    "u <- t[c(2,3,6)]\n",
    "print(u)\n",
    "\n",
    "# Accessing vector elements using negative indexing.\n",
    "# Negative index means droping the index, not the same as that in Python!\n",
    "x <- t[c(-2,-5)]\n",
    "print(x)\n",
    "\n",
    "# Accessing vector element by an index\n",
    "print(t[2])"
   ]
  },
  {
   "cell_type": "markdown",
   "metadata": {},
   "source": []
  },
  {
   "cell_type": "markdown",
   "metadata": {},
   "source": [
    "#### Vector Manipulation"
   ]
  },
  {
   "cell_type": "code",
   "execution_count": 13,
   "metadata": {},
   "outputs": [
    {
     "name": "stdout",
     "output_type": "stream",
     "text": [
      "[1]  4  6  8 10 12 14\n"
     ]
    }
   ],
   "source": [
    "# Vector arithmetic\n",
    "u <- 1:6\n",
    "v <- 3:8\n",
    "\n",
    "print(u+v)"
   ]
  },
  {
   "cell_type": "code",
   "execution_count": 14,
   "metadata": {},
   "outputs": [
    {
     "name": "stdout",
     "output_type": "stream",
     "text": [
      "[1]  7 19  8 16  4 22\n",
      "[1] -1 -3  0 -6 -4  0\n"
     ]
    }
   ],
   "source": [
    "# Vector Element Recycling\n",
    "\n",
    "v1 <- c(3,8,4,5,0,11)\n",
    "v2 <- c(4,11)\n",
    "# V2 becomes c(4,11,4,11,4,11)\n",
    "\n",
    "add.result <- v1+v2\n",
    "print(add.result)\n",
    "\n",
    "sub.result <- v1-v2\n",
    "print(sub.result)"
   ]
  },
  {
   "cell_type": "markdown",
   "metadata": {},
   "source": [
    "#### Sorting a Vector"
   ]
  },
  {
   "cell_type": "code",
   "execution_count": 15,
   "metadata": {},
   "outputs": [
    {
     "name": "stdout",
     "output_type": "stream",
     "text": [
      " [1] 97 35 98 86 61 86 25  8  7 85\n",
      " [1]  7  8 25 35 61 85 86 86 97 98\n",
      " [1] 98 97 86 86 85 61 35 25  8  7\n"
     ]
    }
   ],
   "source": [
    "# Create a size-10 vector by sampling from 1:100 with replacement\n",
    "v <- sample(1:100, 10, replace=TRUE)\n",
    "print(v)\n",
    "\n",
    "v_inc <- sort(v, decreasing = FALSE)\n",
    "print(v_inc)\n",
    "\n",
    "v_dec <- sort(v, decreasing = TRUE)\n",
    "print(v_dec)"
   ]
  },
  {
   "cell_type": "markdown",
   "metadata": {},
   "source": [
    "### List\n",
    "* An ordered collection of variables of **different** types."
   ]
  },
  {
   "cell_type": "markdown",
   "metadata": {},
   "source": [
    "#### Create a list"
   ]
  },
  {
   "cell_type": "code",
   "execution_count": 16,
   "metadata": {},
   "outputs": [
    {
     "name": "stdout",
     "output_type": "stream",
     "text": [
      "[[1]]\n",
      "[1] 1 2 3\n",
      "\n",
      "[[2]]\n",
      "[1] 18\n",
      "\n",
      "[[3]]\n",
      "[1] \"ABC\"\n",
      "\n",
      "[1] 3\n"
     ]
    }
   ],
   "source": [
    "# Create a list.\n",
    "list1 <- list(c(1,2,3),18L,\"ABC\")\n",
    "\n",
    "# Print the list.\n",
    "print(list1)\n",
    "\n",
    "# Print the length of a list\n",
    "print(length(list1))"
   ]
  },
  {
   "cell_type": "markdown",
   "metadata": {},
   "source": [
    "#### Giving Names to Elements"
   ]
  },
  {
   "cell_type": "code",
   "execution_count": 17,
   "metadata": {},
   "outputs": [
    {
     "name": "stdout",
     "output_type": "stream",
     "text": [
      "$`A vector`\n",
      "[1] 1 2 3\n",
      "\n",
      "$`The integer`\n",
      "[1] 18\n",
      "\n",
      "$A_string\n",
      "[1] \"ABC\"\n",
      "\n"
     ]
    }
   ],
   "source": [
    "# Providing names to elements\n",
    "names(list1) <- c(\"A vector\", \"The integer\", \"A_string\")\n",
    "\n",
    "print(list1)"
   ]
  },
  {
   "cell_type": "markdown",
   "metadata": {},
   "source": [
    "#### Accessing Elements"
   ]
  },
  {
   "cell_type": "code",
   "execution_count": 18,
   "metadata": {
    "scrolled": true
   },
   "outputs": [
    {
     "name": "stdout",
     "output_type": "stream",
     "text": [
      "$`The integer`\n",
      "[1] 18\n",
      "\n",
      "[1] 1 2 3\n"
     ]
    }
   ],
   "source": [
    "# By indices\n",
    "print(list1[2])\n",
    "\n",
    "# By names\n",
    "print(list1$`A vector`)"
   ]
  },
  {
   "cell_type": "markdown",
   "metadata": {},
   "source": [
    "#### Adding and Removing Elements"
   ]
  },
  {
   "cell_type": "code",
   "execution_count": 19,
   "metadata": {},
   "outputs": [
    {
     "name": "stdout",
     "output_type": "stream",
     "text": [
      "$`A vector`\n",
      "[1] 1 2 3\n",
      "\n",
      "$`The integer`\n",
      "[1] 18\n",
      "\n",
      "$A_string\n",
      "[1] \"ABC\"\n",
      "\n",
      "[[4]]\n",
      "[1] \"HI.\"\n",
      "\n"
     ]
    }
   ],
   "source": [
    "# Add an element\n",
    "list1[length(list1)+1] <- \"HI.\"\n",
    "\n",
    "print(list1)"
   ]
  },
  {
   "cell_type": "code",
   "execution_count": 20,
   "metadata": {
    "scrolled": true
   },
   "outputs": [
    {
     "name": "stdout",
     "output_type": "stream",
     "text": [
      "$`A vector`\n",
      "[1] 1 2 3\n",
      "\n",
      "$`The integer`\n",
      "[1] 18\n",
      "\n",
      "[[3]]\n",
      "[1] \"HI.\"\n",
      "\n"
     ]
    }
   ],
   "source": [
    "# Remove an element\n",
    "list1[3] <- NULL\n",
    "\n",
    "print(list1)"
   ]
  },
  {
   "cell_type": "markdown",
   "metadata": {},
   "source": [
    "#### Combine Two Lists\n",
    "* Function `c` here is **combine**. Check `?c` for more detail."
   ]
  },
  {
   "cell_type": "code",
   "execution_count": 21,
   "metadata": {},
   "outputs": [
    {
     "name": "stdout",
     "output_type": "stream",
     "text": [
      "$`A vector`\n",
      "[1] 1 2 3\n",
      "\n",
      "$`The integer`\n",
      "[1] 18\n",
      "\n",
      "[[3]]\n",
      "[1] \"HI.\"\n",
      "\n",
      "[[4]]\n",
      "[1] \"Sun\"\n",
      "\n",
      "[[5]]\n",
      "[1] \"Moon\"\n",
      "\n",
      "[[6]]\n",
      "[1] 3.14\n",
      "\n",
      "[[7]]\n",
      "[1] 20\n",
      "\n"
     ]
    }
   ],
   "source": [
    "# Define a new list\n",
    "list2 <- list(\"Sun\", \"Moon\", 3.14, 20L)\n",
    "\n",
    "# Combine two lists using function c\n",
    "combined_list <- c(list1, list2)\n",
    "\n",
    "print(combined_list)"
   ]
  },
  {
   "cell_type": "markdown",
   "metadata": {},
   "source": [
    "#### Convert a List to a Vector"
   ]
  },
  {
   "cell_type": "code",
   "execution_count": 22,
   "metadata": {},
   "outputs": [
    {
     "name": "stdout",
     "output_type": "stream",
     "text": [
      "[1] 1 2 3 4 5\n"
     ]
    }
   ],
   "source": [
    "# Define a List\n",
    "list3 <- list(1,2,3,4,5)\n",
    "\n",
    "v <- unlist(list3)\n",
    "\n",
    "print(v)"
   ]
  },
  {
   "cell_type": "markdown",
   "metadata": {},
   "source": [
    "### Matrix"
   ]
  },
  {
   "cell_type": "markdown",
   "metadata": {},
   "source": [
    "#### Create a Matrix"
   ]
  },
  {
   "cell_type": "code",
   "execution_count": 23,
   "metadata": {
    "scrolled": true
   },
   "outputs": [
    {
     "name": "stdout",
     "output_type": "stream",
     "text": [
      "     [,1] [,2] [,3]\n",
      "[1,]    1    2    3\n",
      "[2,]    4    5    6\n"
     ]
    }
   ],
   "source": [
    "# Create a matrix.\n",
    "M1 = matrix( c(1,2,3,4,5,6), nrow = 2, ncol = 3, byrow = TRUE)\n",
    "print(M1)"
   ]
  },
  {
   "cell_type": "code",
   "execution_count": 24,
   "metadata": {
    "scrolled": true
   },
   "outputs": [
    {
     "name": "stdout",
     "output_type": "stream",
     "text": [
      "  C D E\n",
      "A 1 2 3\n",
      "B 4 5 6\n"
     ]
    }
   ],
   "source": [
    "# Create a matrix with dimnames\n",
    "dimlabel1 = list(\"A\", \"B\")\n",
    "dimlabel2 = list(\"C\", \"D\", \"E\")\n",
    "M2 = matrix( c(1,2,3,4,5,6), nrow = 2, ncol = 3, byrow = TRUE, dimnames = list(dimlabel1, dimlabel2))\n",
    "print(M2)"
   ]
  },
  {
   "cell_type": "markdown",
   "metadata": {},
   "source": [
    "#### Accessing Elements"
   ]
  },
  {
   "cell_type": "code",
   "execution_count": 25,
   "metadata": {
    "scrolled": true
   },
   "outputs": [
    {
     "name": "stdout",
     "output_type": "stream",
     "text": [
      "[1] 6\n"
     ]
    }
   ],
   "source": [
    "# Getting particular element\n",
    "print(M1[2,3])"
   ]
  },
  {
   "cell_type": "code",
   "execution_count": 26,
   "metadata": {
    "scrolled": true
   },
   "outputs": [
    {
     "name": "stdout",
     "output_type": "stream",
     "text": [
      "[1] 3 6\n"
     ]
    }
   ],
   "source": [
    "# Getting particular column\n",
    "print(M1[,3])"
   ]
  },
  {
   "cell_type": "code",
   "execution_count": 27,
   "metadata": {
    "scrolled": true
   },
   "outputs": [
    {
     "name": "stdout",
     "output_type": "stream",
     "text": [
      "[1] 1 2 3\n"
     ]
    }
   ],
   "source": [
    "# Getting particular row\n",
    "print(M1[1,])"
   ]
  },
  {
   "cell_type": "markdown",
   "metadata": {},
   "source": [
    "#### Matrix Addition & Subtraction\n",
    "* The rule for element-wise multiplication `*` and division `/` is the same."
   ]
  },
  {
   "cell_type": "code",
   "execution_count": 28,
   "metadata": {},
   "outputs": [
    {
     "name": "stdout",
     "output_type": "stream",
     "text": [
      "     [,1] [,2] [,3]\n",
      "[1,]    2    3    4\n",
      "[2,]    5    6    7\n"
     ]
    }
   ],
   "source": [
    "# Re-define the M1 and M2 matrices\n",
    "M1 = matrix(1:6, nrow = 2, ncol = 3, byrow = TRUE)\n",
    "M2 = matrix(1:6, nrow = 2, ncol = 3, byrow = TRUE)\n",
    "\n",
    "M2 = M2 + 1\n",
    "print(M2)"
   ]
  },
  {
   "cell_type": "code",
   "execution_count": 29,
   "metadata": {},
   "outputs": [
    {
     "name": "stdout",
     "output_type": "stream",
     "text": [
      "     [,1] [,2] [,3]\n",
      "[1,]    1    1    1\n",
      "[2,]    1    1    1\n"
     ]
    }
   ],
   "source": [
    "M3 = M2 - M1\n",
    "print(M3)"
   ]
  },
  {
   "cell_type": "code",
   "execution_count": 30,
   "metadata": {
    "scrolled": false
   },
   "outputs": [
    {
     "name": "stdout",
     "output_type": "stream",
     "text": [
      "     [,1] [,2] [,3]\n",
      "[1,]   -2   -5   -8\n",
      "[2,]  -11  -14  -17\n"
     ]
    }
   ],
   "source": [
    "M4 = M2 - 4*M1\n",
    "print(M4)"
   ]
  },
  {
   "cell_type": "markdown",
   "metadata": {},
   "source": [
    "### Array"
   ]
  },
  {
   "cell_type": "code",
   "execution_count": 31,
   "metadata": {
    "scrolled": false
   },
   "outputs": [
    {
     "name": "stdout",
     "output_type": "stream",
     "text": [
      ", , 1\n",
      "\n",
      "     [,1] [,2] [,3]\n",
      "[1,]    1    4    3\n",
      "[2,]    2    1    4\n",
      "[3,]    3    2    1\n",
      "\n",
      ", , 2\n",
      "\n",
      "     [,1] [,2] [,3]\n",
      "[1,]    2    1    4\n",
      "[2,]    3    2    1\n",
      "[3,]    4    3    2\n",
      "\n"
     ]
    }
   ],
   "source": [
    "# Create an array.\n",
    "a <- array(c(1,2,3,4),dim = c(3,3,2))\n",
    "print(a)"
   ]
  },
  {
   "cell_type": "code",
   "execution_count": 32,
   "metadata": {
    "scrolled": false
   },
   "outputs": [
    {
     "name": "stdout",
     "output_type": "stream",
     "text": [
      ", , 1\n",
      "\n",
      "     [,1] [,2] [,3]\n",
      "[1,]    1    4    1\n",
      "[2,]    2    5    2\n",
      "[3,]    3    6    3\n",
      "\n",
      ", , 2\n",
      "\n",
      "     [,1] [,2] [,3]\n",
      "[1,]    4    1    4\n",
      "[2,]    5    2    5\n",
      "[3,]    6    3    6\n",
      "\n"
     ]
    }
   ],
   "source": [
    "# Create an array from two vectors.\n",
    "a <- array(c(c(1,2,3,4),c(5,6)),dim = c(3,3,2))\n",
    "print(a)"
   ]
  },
  {
   "cell_type": "markdown",
   "metadata": {},
   "source": [
    "#### Name Dimensions"
   ]
  },
  {
   "cell_type": "code",
   "execution_count": 33,
   "metadata": {
    "scrolled": true
   },
   "outputs": [
    {
     "name": "stdout",
     "output_type": "stream",
     "text": [
      ", , G\n",
      "\n",
      "  D E F\n",
      "A 1 4 1\n",
      "B 2 5 2\n",
      "C 3 6 3\n",
      "\n",
      ", , H\n",
      "\n",
      "  D E F\n",
      "A 4 1 4\n",
      "B 5 2 5\n",
      "C 6 3 6\n",
      "\n"
     ]
    }
   ],
   "source": [
    "# Define dimnames\n",
    "dimname1 <- c(\"A\", \"B\", \"C\")\n",
    "dimname2 <- c(\"D\", \"E\", \"F\")\n",
    "dimname3 <- c(\"G\", \"H\")\n",
    "\n",
    "# Create an array from two vectors with dimnames.\n",
    "a <- array(c(c(1,2,3,4),c(5,6)),dim = c(3,3,2), dimnames = list(dimname1, dimname2, dimname3))\n",
    "print(a)"
   ]
  },
  {
   "cell_type": "markdown",
   "metadata": {},
   "source": [
    "#### Accessing Elements"
   ]
  },
  {
   "cell_type": "code",
   "execution_count": 34,
   "metadata": {},
   "outputs": [
    {
     "name": "stdout",
     "output_type": "stream",
     "text": [
      "[1] 4\n"
     ]
    }
   ],
   "source": [
    "# Getting a particular element\n",
    "print(a[1,2,1])"
   ]
  },
  {
   "cell_type": "code",
   "execution_count": 35,
   "metadata": {},
   "outputs": [
    {
     "name": "stdout",
     "output_type": "stream",
     "text": [
      "A B C \n",
      "4 5 6 \n"
     ]
    }
   ],
   "source": [
    "# Getting a particular column\n",
    "print(a[,2,1])"
   ]
  },
  {
   "cell_type": "code",
   "execution_count": 36,
   "metadata": {
    "scrolled": true
   },
   "outputs": [
    {
     "name": "stdout",
     "output_type": "stream",
     "text": [
      "  D E F\n",
      "A 4 1 4\n",
      "B 5 2 5\n",
      "C 6 3 6\n"
     ]
    }
   ],
   "source": [
    "# Getting a particular matrix\n",
    "print(a[,,2])"
   ]
  },
  {
   "cell_type": "markdown",
   "metadata": {},
   "source": [
    "#### Array Addition\n",
    "* Same as other element-wise opeartions, e.g. `-`, `*`, `/`"
   ]
  },
  {
   "cell_type": "code",
   "execution_count": 37,
   "metadata": {
    "scrolled": true
   },
   "outputs": [
    {
     "name": "stdout",
     "output_type": "stream",
     "text": [
      "Array a1:\n",
      ", , 1\n",
      "\n",
      "     [,1] [,2]\n",
      "[1,]    1    3\n",
      "[2,]    2    1\n",
      "\n",
      ", , 2\n",
      "\n",
      "     [,1] [,2]\n",
      "[1,]    2    1\n",
      "[2,]    3    2\n",
      "\n",
      "Array a2:\n",
      ", , 1\n",
      "\n",
      "     [,1] [,2]\n",
      "[1,]    4    6\n",
      "[2,]    5    4\n",
      "\n",
      ", , 2\n",
      "\n",
      "     [,1] [,2]\n",
      "[1,]    5    4\n",
      "[2,]    6    5\n",
      "\n",
      "Array a_result:\n",
      ", , 1\n",
      "\n",
      "     [,1] [,2]\n",
      "[1,]    5    9\n",
      "[2,]    7    5\n",
      "\n",
      ", , 2\n",
      "\n",
      "     [,1] [,2]\n",
      "[1,]    7    5\n",
      "[2,]    9    7\n",
      "\n"
     ]
    }
   ],
   "source": [
    "# Define two arrays\n",
    "a1 <- array(1:3, dim = c(2,2,2))\n",
    "a2 <- array(4:6, dim = c(2,2,2))\n",
    "\n",
    "cat(\"Array a1:\\n\")\n",
    "print(a1)\n",
    "\n",
    "cat(\"Array a2:\\n\")\n",
    "print(a2)\n",
    "\n",
    "# Calculate the element-wise sums\n",
    "a_result <- a1 + a2\n",
    "\n",
    "cat(\"Array a_result:\\n\")\n",
    "print(a_result)\n"
   ]
  },
  {
   "cell_type": "markdown",
   "metadata": {},
   "source": [
    "#### Calculations Across Array Elements\n",
    "\n",
    "* We use function `apply()` to calculate across aray elements"
   ]
  },
  {
   "cell_type": "code",
   "execution_count": 38,
   "metadata": {},
   "outputs": [
    {
     "name": "stdout",
     "output_type": "stream",
     "text": [
      "array a1:\n",
      ", , 1\n",
      "\n",
      "     [,1] [,2]\n",
      "[1,]    1    3\n",
      "[2,]    2    1\n",
      "\n",
      ", , 2\n",
      "\n",
      "     [,1] [,2]\n",
      "[1,]    2    1\n",
      "[2,]    3    2\n",
      "\n",
      "\n",
      "array result1:\n",
      "[1] 1.75 2.00\n",
      "\n",
      "array result2:\n",
      "     [,1] [,2]\n",
      "[1,]    3    4\n",
      "[2,]    5    3\n"
     ]
    }
   ],
   "source": [
    "# Define an array \n",
    "a1 <- array(1:3, dim = c(2,2,2))\n",
    "\n",
    "cat(\"array a1:\\n\")\n",
    "print(a1)\n",
    "\n",
    "# Calcuate means of elements along 1st axis\n",
    "result1 <- apply(a1, MARGIN = c(1), mean)\n",
    "cat(\"\\narray result1:\\n\")\n",
    "print(result1)\n",
    "\n",
    "# Calcuate sums of elements along 1st and 2nd axes\n",
    "result2 <- apply(a1, MARGIN = c(1,2), sum)\n",
    "cat(\"\\narray result2:\\n\")\n",
    "print(result2)\n",
    "\n"
   ]
  },
  {
   "cell_type": "markdown",
   "metadata": {},
   "source": [
    "### Factor "
   ]
  },
  {
   "cell_type": "markdown",
   "metadata": {},
   "source": [
    "#### Create a Vector"
   ]
  },
  {
   "cell_type": "code",
   "execution_count": 39,
   "metadata": {},
   "outputs": [
    {
     "name": "stdout",
     "output_type": "stream",
     "text": [
      "[1] M M F M F F M\n",
      "Levels: F M\n",
      "[1] 2\n"
     ]
    }
   ],
   "source": [
    "# Create a vector.\n",
    "staff_genders <- array(c(\"M\",\"M\",\"F\",\"M\",\"F\",\"F\",\"M\"))\n",
    "\n",
    "# Create a factor.\n",
    "staff_gender_factor <- factor(staff_genders)\n",
    "\n",
    "# Print the factor\n",
    "print(staff_gender_factor)\n",
    "print(nlevels(staff_gender_factor))"
   ]
  },
  {
   "cell_type": "markdown",
   "metadata": {},
   "source": [
    "#### Generating Labels\n",
    "* Function `gl` is used to generate labels\n",
    "    - Syntax: `gl(n, k, labels)`\n",
    "    - `n` : number of levels.\n",
    "    - `k` : the number of replications.\n",
    "    - `labels` : a vector of labels."
   ]
  },
  {
   "cell_type": "code",
   "execution_count": 40,
   "metadata": {},
   "outputs": [
    {
     "name": "stdout",
     "output_type": "stream",
     "text": [
      " [1] Apple  Apple  Apple  Apple  Orange Orange Orange Orange Banana Banana\n",
      "[11] Banana Banana\n",
      "Levels: Apple Orange Banana\n"
     ]
    }
   ],
   "source": [
    "# Create labels\n",
    "v <- gl(3, 4, labels = c(\"Apple\", \"Orange\", \"Banana\"))\n",
    "print(v)"
   ]
  },
  {
   "cell_type": "markdown",
   "metadata": {},
   "source": [
    "### Data Frames"
   ]
  },
  {
   "cell_type": "markdown",
   "metadata": {},
   "source": [
    "#### Create a Data Frame"
   ]
  },
  {
   "cell_type": "code",
   "execution_count": 41,
   "metadata": {},
   "outputs": [
    {
     "name": "stdout",
     "output_type": "stream",
     "text": [
      "  ID  Name Gender Age\n",
      "1  1   Tom      M  32\n",
      "2  2   Ann      F  36\n",
      "3  3 Peter      M  29\n"
     ]
    }
   ],
   "source": [
    "# Create a data frame.\n",
    "staff_table <- data.frame(\n",
    "    ID=c(1L,2L,3L),\n",
    "    Name=c(\"Tom\", \"Ann\", \"Peter\"),\n",
    "    Gender=c(\"M\",\"F\",\"M\"),\n",
    "    Age=c(32L,36L,29L)\n",
    ")\n",
    "\n",
    "# Print the data frame.\n",
    "print(staff_table)"
   ]
  },
  {
   "cell_type": "markdown",
   "metadata": {},
   "source": [
    "#### Structure of the Dataframe"
   ]
  },
  {
   "cell_type": "code",
   "execution_count": 42,
   "metadata": {},
   "outputs": [
    {
     "name": "stdout",
     "output_type": "stream",
     "text": [
      "'data.frame':\t3 obs. of  4 variables:\n",
      " $ ID    : int  1 2 3\n",
      " $ Name  : Factor w/ 3 levels \"Ann\",\"Peter\",..: 3 1 2\n",
      " $ Gender: Factor w/ 2 levels \"F\",\"M\": 2 1 2\n",
      " $ Age   : int  32 36 29\n"
     ]
    }
   ],
   "source": [
    "# Get the structure of the data frame.\n",
    "str(staff_table)"
   ]
  },
  {
   "cell_type": "markdown",
   "metadata": {},
   "source": [
    "#### Summer of the Dataframe"
   ]
  },
  {
   "cell_type": "code",
   "execution_count": 43,
   "metadata": {
    "scrolled": true
   },
   "outputs": [
    {
     "name": "stdout",
     "output_type": "stream",
     "text": [
      "       ID         Name   Gender      Age       \n",
      " Min.   :1.0   Ann  :1   F:1    Min.   :29.00  \n",
      " 1st Qu.:1.5   Peter:1   M:2    1st Qu.:30.50  \n",
      " Median :2.0   Tom  :1          Median :32.00  \n",
      " Mean   :2.0                    Mean   :32.33  \n",
      " 3rd Qu.:2.5                    3rd Qu.:34.00  \n",
      " Max.   :3.0                    Max.   :36.00  \n"
     ]
    }
   ],
   "source": [
    "# Get the summer of the data frame\n",
    "print(summary(staff_table))"
   ]
  },
  {
   "cell_type": "markdown",
   "metadata": {},
   "source": [
    "#### Making a Sub-dataframe"
   ]
  },
  {
   "cell_type": "code",
   "execution_count": 44,
   "metadata": {},
   "outputs": [
    {
     "name": "stdout",
     "output_type": "stream",
     "text": [
      "  staff_table.Name staff_table.Gender\n",
      "1              Tom                  M\n",
      "2              Ann                  F\n",
      "3            Peter                  M\n"
     ]
    }
   ],
   "source": [
    "# Making a sub-dataframe\n",
    "staff_table_gender = data.frame(staff_table$Name, staff_table$Gender)\n",
    "\n",
    "print(staff_table_gender)"
   ]
  },
  {
   "cell_type": "code",
   "execution_count": 45,
   "metadata": {},
   "outputs": [
    {
     "name": "stdout",
     "output_type": "stream",
     "text": [
      "  ID Name Gender Age\n",
      "1  1  Tom      M  32\n",
      "2  2  Ann      F  36\n"
     ]
    }
   ],
   "source": [
    "# Getting first two rows\n",
    "staff_table_12 <- staff_table[1:2,]\n",
    "\n",
    "print(staff_table_12)"
   ]
  },
  {
   "cell_type": "code",
   "execution_count": 46,
   "metadata": {},
   "outputs": [
    {
     "name": "stdout",
     "output_type": "stream",
     "text": [
      "   Name Age\n",
      "1   Tom  32\n",
      "3 Peter  29\n"
     ]
    }
   ],
   "source": [
    "# Getting particular cols and rows\n",
    "staff_table_parti <- staff_table[c(1,3),c(2,4)]\n",
    "\n",
    "print(staff_table_parti)"
   ]
  },
  {
   "cell_type": "markdown",
   "metadata": {},
   "source": [
    "#### Update the Dataframe"
   ]
  },
  {
   "cell_type": "code",
   "execution_count": 47,
   "metadata": {},
   "outputs": [
    {
     "name": "stdout",
     "output_type": "stream",
     "text": [
      "  ID  Name Gender Age Salay\n",
      "1  1   Tom      M  32 30000\n",
      "2  2   Ann      F  36 32000\n",
      "3  3 Peter      M  29 29000\n"
     ]
    }
   ],
   "source": [
    "# Add a new column\n",
    "staff_table$Salay = c(30000,32000,29000)\n",
    "\n",
    "print(staff_table)"
   ]
  },
  {
   "cell_type": "code",
   "execution_count": 48,
   "metadata": {},
   "outputs": [
    {
     "name": "stdout",
     "output_type": "stream",
     "text": [
      "  ID  Name Gender Age Salay\n",
      "1  1   Tom      M  32 30000\n",
      "2  2   Ann      F  36 32000\n",
      "3  3 Peter      M  29 29000\n",
      "4  4   Ken      M  30 31000\n"
     ]
    }
   ],
   "source": [
    "# Add a new row\n",
    "new_staff = data.frame(\n",
    "    ID = 4L,\n",
    "    Name = \"Ken\",\n",
    "    Gender = \"M\",\n",
    "    Age = 30L,\n",
    "    Salay = 31000\n",
    ")\n",
    "\n",
    "staff_table <- rbind(staff_table, new_staff)\n",
    "\n",
    "print(staff_table)"
   ]
  },
  {
   "cell_type": "markdown",
   "metadata": {},
   "source": [
    "### String"
   ]
  },
  {
   "cell_type": "markdown",
   "metadata": {},
   "source": [
    "#### Define a String"
   ]
  },
  {
   "cell_type": "code",
   "execution_count": 49,
   "metadata": {},
   "outputs": [
    {
     "name": "stdout",
     "output_type": "stream",
     "text": [
      "[1] \"I got Tom's lunchbox.\"\n"
     ]
    }
   ],
   "source": [
    "# Assign a string\n",
    "str1 <- \"I got Tom's lunchbox.\"\n",
    "print(str1)"
   ]
  },
  {
   "cell_type": "markdown",
   "metadata": {},
   "source": [
    "#### Combine Strings"
   ]
  },
  {
   "cell_type": "code",
   "execution_count": 50,
   "metadata": {},
   "outputs": [
    {
     "name": "stdout",
     "output_type": "stream",
     "text": [
      "[1] \"I  Like Hamburger.\"\n"
     ]
    }
   ],
   "source": [
    "str1 <- \"I \"\n",
    "str2 <- \"Like\"\n",
    "str3 <- \"Hamburger.\"\n",
    "\n",
    "# Combine strings with default settings\n",
    "result <- paste(str1, str2, str3)\n",
    "print(result)"
   ]
  },
  {
   "cell_type": "code",
   "execution_count": 51,
   "metadata": {
    "scrolled": false
   },
   "outputs": [
    {
     "name": "stdout",
     "output_type": "stream",
     "text": [
      "[1] \"I #Like#Hamburger.\"\n"
     ]
    }
   ],
   "source": [
    "# Combine strings and connect them using \"#\"\n",
    "result <- paste(str1, str2, str3, sep=\"#\")\n",
    "print(result)"
   ]
  },
  {
   "cell_type": "code",
   "execution_count": 52,
   "metadata": {
    "scrolled": true
   },
   "outputs": [
    {
     "name": "stdout",
     "output_type": "stream",
     "text": [
      "[1] \"I #A%%Like#B%%Hamburger.#A\"\n"
     ]
    }
   ],
   "source": [
    "# Cross combining strings using \"#\" and \"%%\"\n",
    "result <- paste(c(str1, str2, str3), c(\"A\", \"B\"), sep=\"#\", collapse = \"%%\")\n",
    "print(result)"
   ]
  },
  {
   "cell_type": "markdown",
   "metadata": {},
   "source": [
    "#### Format String \n",
    "\n",
    "The `format` function has a general syntax:\n",
    "\n",
    "`format(x, digits, nsmall, scientific, width, justify = c(\"left\", \"right\", \"centre\", \"none\")) `\n",
    "\n"
   ]
  },
  {
   "cell_type": "code",
   "execution_count": 53,
   "metadata": {},
   "outputs": [
    {
     "name": "stdout",
     "output_type": "stream",
     "text": [
      "[1] \"3.142\"\n"
     ]
    }
   ],
   "source": [
    "str1 <- format(3.14159265358, digits = 4) # Keeps at most 4 digits\n",
    "print(str1)"
   ]
  },
  {
   "cell_type": "code",
   "execution_count": 54,
   "metadata": {
    "scrolled": true
   },
   "outputs": [
    {
     "name": "stdout",
     "output_type": "stream",
     "text": [
      "[1] \"3.10\"\n"
     ]
    }
   ],
   "source": [
    "str2 <- format(3.1, nsmall = 2) # Make decimal places after the floating point to be 2\n",
    "print(str2)"
   ]
  },
  {
   "cell_type": "code",
   "execution_count": 55,
   "metadata": {
    "scrolled": true
   },
   "outputs": [
    {
     "name": "stdout",
     "output_type": "stream",
     "text": [
      "[1] \"3.1e+00\"\n"
     ]
    }
   ],
   "source": [
    "str3 <- format(3.1, scientific = TRUE)\n",
    "print(str3)"
   ]
  },
  {
   "cell_type": "code",
   "execution_count": 56,
   "metadata": {
    "scrolled": true
   },
   "outputs": [
    {
     "name": "stdout",
     "output_type": "stream",
     "text": [
      "[1] \"Hello     \"\n"
     ]
    }
   ],
   "source": [
    "str4 <- format(\"Hello\", width = 10)\n",
    "print(str4)"
   ]
  },
  {
   "cell_type": "code",
   "execution_count": 57,
   "metadata": {
    "scrolled": true
   },
   "outputs": [
    {
     "name": "stdout",
     "output_type": "stream",
     "text": [
      "[1] \"     Hello\"\n"
     ]
    }
   ],
   "source": [
    "str5 <- format(\"Hello\", width = 10, justify = \"right\")\n",
    "print(str5)"
   ]
  },
  {
   "cell_type": "markdown",
   "metadata": {},
   "source": [
    "#### Number of Chars"
   ]
  },
  {
   "cell_type": "code",
   "execution_count": 58,
   "metadata": {},
   "outputs": [
    {
     "name": "stdout",
     "output_type": "stream",
     "text": [
      "[1] 5\n"
     ]
    }
   ],
   "source": [
    "# Define the string\n",
    "str1 <- \"Hello\"\n",
    "\n",
    "print(nchar(str1))"
   ]
  },
  {
   "cell_type": "markdown",
   "metadata": {},
   "source": [
    "#### Change the Case"
   ]
  },
  {
   "cell_type": "code",
   "execution_count": 59,
   "metadata": {
    "scrolled": true
   },
   "outputs": [
    {
     "name": "stdout",
     "output_type": "stream",
     "text": [
      "[1] \"HELLO\"\n"
     ]
    }
   ],
   "source": [
    "# Define the string\n",
    "str1 <- \"Hello\"\n",
    "\n",
    "print(toupper(str1))"
   ]
  },
  {
   "cell_type": "code",
   "execution_count": 60,
   "metadata": {
    "scrolled": true
   },
   "outputs": [
    {
     "name": "stdout",
     "output_type": "stream",
     "text": [
      "[1] \"hello\"\n"
     ]
    }
   ],
   "source": [
    "print(tolower(str1))"
   ]
  },
  {
   "cell_type": "markdown",
   "metadata": {},
   "source": [
    "#### Extracting Parts of a String - `substr`"
   ]
  },
  {
   "cell_type": "code",
   "execution_count": 61,
   "metadata": {
    "scrolled": false
   },
   "outputs": [
    {
     "name": "stdout",
     "output_type": "stream",
     "text": [
      "[1] \"air quality\"\n"
     ]
    }
   ],
   "source": [
    "# Define a string\n",
    "str1 <- \"The air quality is ideal for most individuals.\"\n",
    "\n",
    "# Get a substring\n",
    "str2 <- substr(str1, start = 5, stop = 15)\n",
    "print(str2)"
   ]
  },
  {
   "cell_type": "markdown",
   "metadata": {},
   "source": [
    "#### Split a String"
   ]
  },
  {
   "cell_type": "code",
   "execution_count": 62,
   "metadata": {},
   "outputs": [
    {
     "name": "stdout",
     "output_type": "stream",
     "text": [
      "[[1]]\n",
      "[1] \"The\"          \"air\"          \"quality\"      \"is\"           \"ideal\"       \n",
      "[6] \"for\"          \"most\"         \"individuals.\"\n",
      "\n"
     ]
    }
   ],
   "source": [
    "# Define a string\n",
    "str1 <- \"The air quality is ideal for most individuals.\"\n",
    "\n",
    "words <- strsplit(str1, split = \" \")\n",
    "print(words)"
   ]
  },
  {
   "cell_type": "markdown",
   "metadata": {},
   "source": [
    "# Operations"
   ]
  },
  {
   "cell_type": "markdown",
   "metadata": {},
   "source": [
    "## Arithmetic Operators\n",
    "\n",
    "Arithmetic operators include `+`, `-`, `*`, `/`, `%%` (remainder), `%/%` (quotient) and `^` (exponent)."
   ]
  },
  {
   "cell_type": "code",
   "execution_count": 63,
   "metadata": {
    "scrolled": true
   },
   "outputs": [
    {
     "name": "stdout",
     "output_type": "stream",
     "text": [
      "[1]  3  9 12\n",
      "[1] 1 5 6\n",
      "[1]  2 14 27\n",
      "[1] 2.0 3.5 3.0\n",
      "[1] 0 1 0\n",
      "[1] 2 3 3\n",
      "[1]   2  49 729\n"
     ]
    }
   ],
   "source": [
    "# Define vectors\n",
    "v1 <- c(2,7,9)\n",
    "v2 <- c(1,2,3)\n",
    "\n",
    "print(v1+v2)\n",
    "print(v1-v2)\n",
    "print(v1*v2)\n",
    "print(v1/v2)\n",
    "print(v1%%v2)\n",
    "print(v1%/%v2)\n",
    "print(v1 ^ v2)"
   ]
  },
  {
   "cell_type": "markdown",
   "metadata": {},
   "source": [
    "## Relational Operators\n",
    "Relational Operators includes `<`, `>`, `==`, `<=`, `>=` and `!=`."
   ]
  },
  {
   "cell_type": "code",
   "execution_count": 64,
   "metadata": {
    "scrolled": true
   },
   "outputs": [
    {
     "name": "stdout",
     "output_type": "stream",
     "text": [
      "[1] FALSE FALSE  TRUE\n",
      "[1]  TRUE FALSE FALSE\n",
      "[1] FALSE  TRUE FALSE\n",
      "[1] FALSE  TRUE  TRUE\n",
      "[1]  TRUE  TRUE FALSE\n",
      "[1]  TRUE FALSE  TRUE\n"
     ]
    }
   ],
   "source": [
    "# Define vectors\n",
    "v1 <- c(2,3,9)\n",
    "v2 <- c(1,3,12)\n",
    "\n",
    "print(v1<v2)\n",
    "print(v1>v2)\n",
    "print(v1==v2)\n",
    "print(v1<=v2)\n",
    "print(v1>=v2)\n",
    "print(v1!=v2)"
   ]
  },
  {
   "cell_type": "markdown",
   "metadata": {},
   "source": [
    "## Logical Operators"
   ]
  },
  {
   "cell_type": "code",
   "execution_count": 65,
   "metadata": {},
   "outputs": [
    {
     "name": "stdout",
     "output_type": "stream",
     "text": [
      "[1] TRUE\n",
      "[1] TRUE\n",
      "[1] TRUE\n",
      "[1] FALSE\n"
     ]
    }
   ],
   "source": [
    "print(TRUE || TRUE)\n",
    "print(FALSE || TRUE)\n",
    "print(TRUE || FALSE)\n",
    "print(FALSE || FALSE)"
   ]
  },
  {
   "cell_type": "code",
   "execution_count": 66,
   "metadata": {},
   "outputs": [
    {
     "name": "stdout",
     "output_type": "stream",
     "text": [
      "[1] TRUE\n",
      "[1] FALSE\n",
      "[1] FALSE\n",
      "[1] FALSE\n"
     ]
    }
   ],
   "source": [
    "print(TRUE && TRUE)\n",
    "print(FALSE && TRUE)\n",
    "print(TRUE && FALSE)\n",
    "print(FALSE && FALSE)"
   ]
  },
  {
   "cell_type": "code",
   "execution_count": 67,
   "metadata": {
    "scrolled": true
   },
   "outputs": [
    {
     "name": "stdout",
     "output_type": "stream",
     "text": [
      "[1] FALSE FALSE FALSE  TRUE\n",
      "[1] FALSE  TRUE  TRUE  TRUE\n",
      "[1]  TRUE  TRUE  TRUE FALSE\n"
     ]
    }
   ],
   "source": [
    "v1 <- c(FALSE, FALSE, FALSE, TRUE)\n",
    "v2 <- c(FALSE, TRUE, TRUE, TRUE)\n",
    "\n",
    "print(v1&v2) \n",
    "print(v1|v2)\n",
    "print(!v1)"
   ]
  },
  {
   "cell_type": "markdown",
   "metadata": {},
   "source": [
    "The logical operator `&&` and `||` considers only the first element of the vectors"
   ]
  },
  {
   "cell_type": "code",
   "execution_count": 68,
   "metadata": {},
   "outputs": [
    {
     "name": "stdout",
     "output_type": "stream",
     "text": [
      "[1] FALSE\n",
      "[1] TRUE\n",
      "[1] TRUE\n",
      "[1] FALSE\n"
     ]
    }
   ],
   "source": [
    "v1 <- c(FALSE, FALSE, FALSE, TRUE)\n",
    "v2 <- c(TRUE, TRUE, TRUE, FALSE)\n",
    "print(v1&&v2)\n",
    "print(v1||v2)\n",
    "\n",
    "v3 <- c(TRUE, TRUE, TRUE, TRUE)\n",
    "v4 <- c(FALSE, FALSE, FALSE, TRUE)\n",
    "print(v2&&v3)\n",
    "print(v1&&v4)"
   ]
  },
  {
   "cell_type": "markdown",
   "metadata": {},
   "source": [
    "## Miscellaneous Operators"
   ]
  },
  {
   "cell_type": "markdown",
   "metadata": {},
   "source": [
    "### `:` Create Vector Containing a Sequence of Numbers "
   ]
  },
  {
   "cell_type": "code",
   "execution_count": 69,
   "metadata": {
    "scrolled": true
   },
   "outputs": [
    {
     "name": "stdout",
     "output_type": "stream",
     "text": [
      " [1]  1  2  3  4  5  6  7  8  9 10\n"
     ]
    }
   ],
   "source": [
    "v1 <- 1:10\n",
    "print(v1)"
   ]
  },
  {
   "cell_type": "markdown",
   "metadata": {},
   "source": [
    "### `%in%` Check if a Variable Belongs to a Vector"
   ]
  },
  {
   "cell_type": "code",
   "execution_count": 70,
   "metadata": {
    "scrolled": false
   },
   "outputs": [
    {
     "name": "stdout",
     "output_type": "stream",
     "text": [
      "[1] TRUE\n",
      "[1] FALSE\n"
     ]
    }
   ],
   "source": [
    "print(3 %in% v1)\n",
    "print(11 %in% v1)"
   ]
  },
  {
   "cell_type": "markdown",
   "metadata": {},
   "source": [
    "### `%*%` Matrix Multiplication"
   ]
  },
  {
   "cell_type": "code",
   "execution_count": 71,
   "metadata": {},
   "outputs": [
    {
     "name": "stdout",
     "output_type": "stream",
     "text": [
      "\n",
      "     [,1] [,2]\n",
      "[1,]    1    4\n",
      "[2,]    2    5\n",
      "[3,]    3    6\n",
      "\n",
      "     [,1] [,2] [,3]\n",
      "[1,]    3    5    7\n",
      "[2,]    4    6    8\n",
      "\n",
      "     [,1] [,2] [,3]\n",
      "[1,]   19   29   39\n",
      "[2,]   26   40   54\n",
      "[3,]   33   51   69\n"
     ]
    }
   ],
   "source": [
    "M1 <- matrix(1:6, nrow = 3, ncol = 2)\n",
    "M2 <- matrix(3:8, nrow = 2, ncol = 3)\n",
    "\n",
    "cat(\"\\n\")\n",
    "print(M1)\n",
    "cat(\"\\n\")\n",
    "print(M2)\n",
    "\n",
    "M_result <- M1 %*% M2\n",
    "\n",
    "cat(\"\\n\")\n",
    "print(M_result)"
   ]
  },
  {
   "cell_type": "markdown",
   "metadata": {},
   "source": [
    "# Conditional Statements"
   ]
  },
  {
   "cell_type": "markdown",
   "metadata": {},
   "source": [
    "## `if ... else` statement"
   ]
  },
  {
   "cell_type": "code",
   "execution_count": 72,
   "metadata": {},
   "outputs": [
    {
     "name": "stdout",
     "output_type": "stream",
     "text": [
      "x is less than 4.\n",
      "\n",
      "x is not less than 4.\n"
     ]
    }
   ],
   "source": [
    "x <- 2 # Assign 2 to x\n",
    "\n",
    "# A if-only statement\n",
    "if (x < 4){\n",
    "    cat(\"x is less than 4.\\n\\n\")\n",
    "}\n",
    "\n",
    "x <- 5 # Assign 5 to x\n",
    "\n",
    "# A if-else statement\n",
    "if (x < 4){\n",
    "    cat(\"x is less than 4.\\n\\n\")\n",
    "}else{\n",
    "    cat(\"x is not less than 4.\\n\")\n",
    "}"
   ]
  },
  {
   "cell_type": "markdown",
   "metadata": {},
   "source": [
    "## `if ... else if ... else` statement"
   ]
  },
  {
   "cell_type": "code",
   "execution_count": 73,
   "metadata": {},
   "outputs": [
    {
     "name": "stdout",
     "output_type": "stream",
     "text": [
      "x is not less than 4, but less than 8.\n"
     ]
    }
   ],
   "source": [
    "x <- 5 # Assign 5 to x\n",
    "\n",
    "# A if-else statement\n",
    "if (x < 4){\n",
    "    cat(\"x is less than 4.\\n\\n\")\n",
    "}else if (x < 8){\n",
    "    cat(\"x is not less than 4, but less than 8.\\n\")\n",
    "}else{\n",
    "    cat(\"x is not less 8.\\n\")\n",
    "}"
   ]
  },
  {
   "cell_type": "code",
   "execution_count": 74,
   "metadata": {},
   "outputs": [
    {
     "name": "stdout",
     "output_type": "stream",
     "text": [
      "x is not less 8.\n"
     ]
    }
   ],
   "source": [
    "x <- 10 # Assign 10 to x\n",
    "\n",
    "# A if-else statement\n",
    "if (x < 4){\n",
    "    cat(\"x is less than 4.\\n\\n\")\n",
    "}else if (x < 8){\n",
    "    cat(\"x is not less than 4, but less than 8.\\n\")\n",
    "}else{\n",
    "    cat(\"x is not less 8.\\n\")\n",
    "}"
   ]
  },
  {
   "cell_type": "markdown",
   "metadata": {},
   "source": [
    "## `switch` statement"
   ]
  },
  {
   "cell_type": "code",
   "execution_count": 75,
   "metadata": {
    "scrolled": true
   },
   "outputs": [
    {
     "name": "stdout",
     "output_type": "stream",
     "text": [
      "[1] \"Two\"\n"
     ]
    }
   ],
   "source": [
    "# Running a switch statement\n",
    "x1 <- switch(2, \"One\", \"Two\", \"None Matched\")\n",
    "print(x1)"
   ]
  },
  {
   "cell_type": "code",
   "execution_count": 76,
   "metadata": {},
   "outputs": [
    {
     "name": "stdout",
     "output_type": "stream",
     "text": [
      "I got an Apple .\n"
     ]
    }
   ],
   "source": [
    "# Define a list of indices\n",
    "idx <- list(1,2,3)\n",
    "# Give names to list elements\n",
    "names(idx) <- c(\"Apple\", \"Orange\", \"Banana\")\n",
    "\n",
    "# Determine the output by a switch\n",
    "x2 <- switch(idx$Apple, \"Apple\", \"Orange\", \"Banana\")\n",
    "\n",
    "cat(\"I got an\", x2, \".\\n\")"
   ]
  },
  {
   "cell_type": "markdown",
   "metadata": {},
   "source": [
    "# Loops"
   ]
  },
  {
   "cell_type": "markdown",
   "metadata": {},
   "source": [
    "## `repeat` Loop"
   ]
  },
  {
   "cell_type": "code",
   "execution_count": 77,
   "metadata": {},
   "outputs": [
    {
     "name": "stdout",
     "output_type": "stream",
     "text": [
      "This is iteration #1.\n",
      "This is iteration #2.\n",
      "This is iteration #3.\n",
      "This is iteration #4.\n",
      "This is iteration #5.\n"
     ]
    }
   ],
   "source": [
    "# Set the counter to be 0\n",
    "count <- 0L\n",
    "\n",
    "# Start the repeat loop\n",
    "repeat{\n",
    "    count <- count + 1L  # Increase the counter by 1\n",
    "    cat(\"This is iteration #\", count, \".\\n\", sep = \"\")\n",
    "    if (count >= 5L)\n",
    "        {\n",
    "        break # Break the loop if counter >= 5\n",
    "    }\n",
    "}"
   ]
  },
  {
   "cell_type": "markdown",
   "metadata": {},
   "source": [
    "## `while` Loop"
   ]
  },
  {
   "cell_type": "code",
   "execution_count": 78,
   "metadata": {},
   "outputs": [
    {
     "name": "stdout",
     "output_type": "stream",
     "text": [
      "This is iteration #1.\n",
      "This is iteration #2.\n",
      "This is iteration #3.\n",
      "This is iteration #4.\n",
      "This is iteration #5.\n"
     ]
    }
   ],
   "source": [
    "# Set the counter to be 0\n",
    "count <- 0L\n",
    "\n",
    "# Start the while loop\n",
    "while (count < 5)\n",
    "    {\n",
    "    count <- count + 1L  # Increase the counter by 1\n",
    "    cat(\"This is iteration #\", count, \".\\n\", sep = \"\")\n",
    "}"
   ]
  },
  {
   "cell_type": "markdown",
   "metadata": {},
   "source": [
    "## `for` Loop"
   ]
  },
  {
   "cell_type": "code",
   "execution_count": 79,
   "metadata": {},
   "outputs": [
    {
     "name": "stdout",
     "output_type": "stream",
     "text": [
      "[1] 1 3 5 7 9\n",
      "\n",
      "[1] 1\n",
      "[1] 3\n",
      "[1] 5\n",
      "[1] 7\n",
      "[1] 9\n"
     ]
    }
   ],
   "source": [
    "# Generate integer sequence using seq.int\n",
    "# seq.int(1,10,2) returns a vector starting from 1, stopping at/before 10, and increasing by 2\n",
    "all_x <- seq.int(1,10,2)\n",
    "print(all_x)\n",
    "\n",
    "cat(\"\\n\")\n",
    "\n",
    "# Start the for loop\n",
    "for (x in all_x){\n",
    "    print(x)\n",
    "}"
   ]
  },
  {
   "cell_type": "markdown",
   "metadata": {},
   "source": [
    "## `break` and `next`"
   ]
  },
  {
   "cell_type": "code",
   "execution_count": 80,
   "metadata": {},
   "outputs": [
    {
     "name": "stdout",
     "output_type": "stream",
     "text": [
      "[1] 1\n",
      "[1] 3\n",
      "[1] 5\n"
     ]
    }
   ],
   "source": [
    "# Start the for loop\n",
    "for (x in all_x){\n",
    "    if (x > median(all_x)){ # Break the loop if x is larger than the median\n",
    "        break\n",
    "    }\n",
    "    print(x)\n",
    "}"
   ]
  },
  {
   "cell_type": "code",
   "execution_count": 81,
   "metadata": {},
   "outputs": [
    {
     "name": "stdout",
     "output_type": "stream",
     "text": [
      "[1] 1\n",
      "[1] 5\n",
      "[1] 7\n",
      "[1] 9\n"
     ]
    }
   ],
   "source": [
    "# Start the for loop\n",
    "for (x in all_x){\n",
    "    if (x == all_x[2]){ # Skip the iteration if x is equal to all_x[2]\n",
    "        next\n",
    "    }\n",
    "    print(x)\n",
    "}"
   ]
  }
 ],
 "metadata": {
  "kernelspec": {
   "display_name": "R",
   "language": "R",
   "name": "ir"
  },
  "language_info": {
   "codemirror_mode": "r",
   "file_extension": ".r",
   "mimetype": "text/x-r-source",
   "name": "R",
   "pygments_lexer": "r",
   "version": "3.6.3"
  }
 },
 "nbformat": 4,
 "nbformat_minor": 4
}
